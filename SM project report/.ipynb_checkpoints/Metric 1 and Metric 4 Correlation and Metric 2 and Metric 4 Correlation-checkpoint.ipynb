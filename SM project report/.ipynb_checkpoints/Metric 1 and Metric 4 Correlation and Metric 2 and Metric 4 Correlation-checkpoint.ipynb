{
 "cells": [
  {
   "cell_type": "code",
   "execution_count": 67,
   "metadata": {},
   "outputs": [],
   "source": [
    "from scipy.stats import spearmanr\n",
    "import matplotlib.pyplot as plt"
   ]
  },
  {
   "cell_type": "code",
   "execution_count": 68,
   "metadata": {},
   "outputs": [],
   "source": [
    "import pandas as pd"
   ]
  },
  {
   "cell_type": "code",
   "execution_count": 98,
   "metadata": {},
   "outputs": [],
   "source": [
    "#Collections Classes"
   ]
  },
  {
   "cell_type": "code",
   "execution_count": 69,
   "metadata": {},
   "outputs": [],
   "source": [
    "collections_classes = pd.read_csv(\"collections-v4.3.csv\")"
   ]
  },
  {
   "cell_type": "code",
   "execution_count": 70,
   "metadata": {},
   "outputs": [
    {
     "data": {
      "text/html": [
       "<div>\n",
       "<style scoped>\n",
       "    .dataframe tbody tr th:only-of-type {\n",
       "        vertical-align: middle;\n",
       "    }\n",
       "\n",
       "    .dataframe tbody tr th {\n",
       "        vertical-align: top;\n",
       "    }\n",
       "\n",
       "    .dataframe thead th {\n",
       "        text-align: right;\n",
       "    }\n",
       "</style>\n",
       "<table border=\"1\" class=\"dataframe\">\n",
       "  <thead>\n",
       "    <tr style=\"text-align: right;\">\n",
       "      <th></th>\n",
       "      <th>GROUP</th>\n",
       "      <th>PACKAGE</th>\n",
       "      <th>CLASS</th>\n",
       "      <th>INSTRUCTION_MISSED</th>\n",
       "      <th>INSTRUCTION_COVERED</th>\n",
       "      <th>BRANCH_MISSED</th>\n",
       "      <th>BRANCH_COVERED</th>\n",
       "      <th>LINE_MISSED</th>\n",
       "      <th>LINE_COVERED</th>\n",
       "      <th>COMPLEXITY_MISSED</th>\n",
       "      <th>COMPLEXITY_COVERED</th>\n",
       "      <th>METHOD_MISSED</th>\n",
       "      <th>METHOD_COVERED</th>\n",
       "    </tr>\n",
       "  </thead>\n",
       "  <tbody>\n",
       "    <tr>\n",
       "      <th>0</th>\n",
       "      <td>collections-v4.3 (Apr 2, 2019 8:15:44 PM)/comm...</td>\n",
       "      <td>org.apache.commons.collections4.keyvalue</td>\n",
       "      <td>DefaultMapEntry</td>\n",
       "      <td>0</td>\n",
       "      <td>19</td>\n",
       "      <td>0</td>\n",
       "      <td>0</td>\n",
       "      <td>0</td>\n",
       "      <td>6</td>\n",
       "      <td>0</td>\n",
       "      <td>3</td>\n",
       "      <td>0</td>\n",
       "      <td>3</td>\n",
       "    </tr>\n",
       "    <tr>\n",
       "      <th>1</th>\n",
       "      <td>collections-v4.3 (Apr 2, 2019 8:15:44 PM)/comm...</td>\n",
       "      <td>org.apache.commons.collections4.keyvalue</td>\n",
       "      <td>DefaultKeyValue</td>\n",
       "      <td>4</td>\n",
       "      <td>110</td>\n",
       "      <td>5</td>\n",
       "      <td>19</td>\n",
       "      <td>1</td>\n",
       "      <td>24</td>\n",
       "      <td>5</td>\n",
       "      <td>16</td>\n",
       "      <td>0</td>\n",
       "      <td>9</td>\n",
       "    </tr>\n",
       "    <tr>\n",
       "      <th>2</th>\n",
       "      <td>collections-v4.3 (Apr 2, 2019 8:15:44 PM)/comm...</td>\n",
       "      <td>org.apache.commons.collections4.keyvalue</td>\n",
       "      <td>TiedMapEntry</td>\n",
       "      <td>4</td>\n",
       "      <td>105</td>\n",
       "      <td>5</td>\n",
       "      <td>17</td>\n",
       "      <td>1</td>\n",
       "      <td>21</td>\n",
       "      <td>5</td>\n",
       "      <td>13</td>\n",
       "      <td>0</td>\n",
       "      <td>7</td>\n",
       "    </tr>\n",
       "    <tr>\n",
       "      <th>3</th>\n",
       "      <td>collections-v4.3 (Apr 2, 2019 8:15:44 PM)/comm...</td>\n",
       "      <td>org.apache.commons.collections4.keyvalue</td>\n",
       "      <td>AbstractMapEntry</td>\n",
       "      <td>0</td>\n",
       "      <td>70</td>\n",
       "      <td>1</td>\n",
       "      <td>19</td>\n",
       "      <td>0</td>\n",
       "      <td>13</td>\n",
       "      <td>1</td>\n",
       "      <td>13</td>\n",
       "      <td>0</td>\n",
       "      <td>4</td>\n",
       "    </tr>\n",
       "    <tr>\n",
       "      <th>4</th>\n",
       "      <td>collections-v4.3 (Apr 2, 2019 8:15:44 PM)/comm...</td>\n",
       "      <td>org.apache.commons.collections4.keyvalue</td>\n",
       "      <td>AbstractMapEntryDecorator</td>\n",
       "      <td>11</td>\n",
       "      <td>36</td>\n",
       "      <td>2</td>\n",
       "      <td>2</td>\n",
       "      <td>3</td>\n",
       "      <td>11</td>\n",
       "      <td>3</td>\n",
       "      <td>7</td>\n",
       "      <td>1</td>\n",
       "      <td>7</td>\n",
       "    </tr>\n",
       "  </tbody>\n",
       "</table>\n",
       "</div>"
      ],
      "text/plain": [
       "                                               GROUP  \\\n",
       "0  collections-v4.3 (Apr 2, 2019 8:15:44 PM)/comm...   \n",
       "1  collections-v4.3 (Apr 2, 2019 8:15:44 PM)/comm...   \n",
       "2  collections-v4.3 (Apr 2, 2019 8:15:44 PM)/comm...   \n",
       "3  collections-v4.3 (Apr 2, 2019 8:15:44 PM)/comm...   \n",
       "4  collections-v4.3 (Apr 2, 2019 8:15:44 PM)/comm...   \n",
       "\n",
       "                                    PACKAGE                      CLASS  \\\n",
       "0  org.apache.commons.collections4.keyvalue            DefaultMapEntry   \n",
       "1  org.apache.commons.collections4.keyvalue            DefaultKeyValue   \n",
       "2  org.apache.commons.collections4.keyvalue               TiedMapEntry   \n",
       "3  org.apache.commons.collections4.keyvalue           AbstractMapEntry   \n",
       "4  org.apache.commons.collections4.keyvalue  AbstractMapEntryDecorator   \n",
       "\n",
       "   INSTRUCTION_MISSED  INSTRUCTION_COVERED  BRANCH_MISSED  BRANCH_COVERED  \\\n",
       "0                   0                   19              0               0   \n",
       "1                   4                  110              5              19   \n",
       "2                   4                  105              5              17   \n",
       "3                   0                   70              1              19   \n",
       "4                  11                   36              2               2   \n",
       "\n",
       "   LINE_MISSED  LINE_COVERED  COMPLEXITY_MISSED  COMPLEXITY_COVERED  \\\n",
       "0            0             6                  0                   3   \n",
       "1            1            24                  5                  16   \n",
       "2            1            21                  5                  13   \n",
       "3            0            13                  1                  13   \n",
       "4            3            11                  3                   7   \n",
       "\n",
       "   METHOD_MISSED  METHOD_COVERED  \n",
       "0              0               3  \n",
       "1              0               9  \n",
       "2              0               7  \n",
       "3              0               4  \n",
       "4              1               7  "
      ]
     },
     "execution_count": 70,
     "metadata": {},
     "output_type": "execute_result"
    }
   ],
   "source": [
    "collections_classes.head()"
   ]
  },
  {
   "cell_type": "code",
   "execution_count": 71,
   "metadata": {},
   "outputs": [],
   "source": [
    "statement_coverage_collection_results = collections_classes[\"LINE_COVERED\"] / (collections_classes[\"LINE_MISSED\"] + collections_classes[\"LINE_COVERED\"])"
   ]
  },
  {
   "cell_type": "code",
   "execution_count": 111,
   "metadata": {},
   "outputs": [],
   "source": [
    "branch_coverage_collection_results = collections_classes[\"BRANCH_COVERED\"] / (collections_classes[\"BRANCH_MISSED\"] + collections_classes[\"BRANCH_COVERED\"]+0.00000001)"
   ]
  },
  {
   "cell_type": "code",
   "execution_count": 73,
   "metadata": {},
   "outputs": [],
   "source": [
    "cyclomatic_coverage_collection_results = collections_classes[\"COMPLEXITY_COVERED\"] / (collections_classes[\"COMPLEXITY_MISSED\"] + collections_classes[\"COMPLEXITY_COVERED\"])"
   ]
  },
  {
   "cell_type": "code",
   "execution_count": 90,
   "metadata": {},
   "outputs": [
    {
     "data": {
      "text/plain": [
       "SpearmanrResult(correlation=0.827886606646632, pvalue=3.726577810470427e-215)"
      ]
     },
     "execution_count": 90,
     "metadata": {},
     "output_type": "execute_result"
    }
   ],
   "source": [
    "spearmanr(cyclomatic_coverage_collection_results, statement_coverage_collection_results)"
   ]
  },
  {
   "cell_type": "code",
   "execution_count": 112,
   "metadata": {},
   "outputs": [
    {
     "data": {
      "text/plain": [
       "SpearmanrResult(correlation=0.0664667431969184, pvalue=0.052731571662280305)"
      ]
     },
     "execution_count": 112,
     "metadata": {},
     "output_type": "execute_result"
    }
   ],
   "source": [
    "spearmanr(cyclomatic_coverage_collection_results, branch_coverage_collection_results)"
   ]
  },
  {
   "cell_type": "code",
   "execution_count": 115,
   "metadata": {},
   "outputs": [
    {
     "data": {
      "text/plain": [
       "SpearmanrResult(correlation=0.09819739929415161, pvalue=0.004161713141329319)"
      ]
     },
     "execution_count": 115,
     "metadata": {},
     "output_type": "execute_result"
    }
   ],
   "source": [
    "spearmanr(branch_coverage_collection_results, statement_coverage_collection_results)"
   ]
  },
  {
   "cell_type": "code",
   "execution_count": null,
   "metadata": {},
   "outputs": [],
   "source": [
    "#JFreechart classes"
   ]
  },
  {
   "cell_type": "code",
   "execution_count": 76,
   "metadata": {},
   "outputs": [],
   "source": [
    "jfreechart_classes = pd.read_csv(\"jfreechart-v1.5.0.csv\")"
   ]
  },
  {
   "cell_type": "code",
   "execution_count": 77,
   "metadata": {},
   "outputs": [],
   "source": [
    "statement_coverage_jfreechart_results = jfreechart_classes[\"LINE_COVERED\"] / (jfreechart_classes[\"LINE_MISSED\"] + jfreechart_classes[\"LINE_COVERED\"])"
   ]
  },
  {
   "cell_type": "code",
   "execution_count": 113,
   "metadata": {},
   "outputs": [],
   "source": [
    "branch_coverage_jfreechart_results = jfreechart_classes[\"BRANCH_COVERED\"] / (jfreechart_classes[\"BRANCH_MISSED\"] + jfreechart_classes[\"BRANCH_COVERED\"]+0.00000001)"
   ]
  },
  {
   "cell_type": "code",
   "execution_count": 78,
   "metadata": {},
   "outputs": [],
   "source": [
    "cyclomatic_coverage_jfreechart_results = jfreechart_classes[\"COMPLEXITY_COVERED\"] / (jfreechart_classes[\"COMPLEXITY_MISSED\"] + jfreechart_classes[\"COMPLEXITY_COVERED\"])"
   ]
  },
  {
   "cell_type": "code",
   "execution_count": 79,
   "metadata": {},
   "outputs": [
    {
     "data": {
      "text/plain": [
       "SpearmanrResult(correlation=0.8335037392911021, pvalue=2.4624786088018567e-241)"
      ]
     },
     "execution_count": 79,
     "metadata": {},
     "output_type": "execute_result"
    }
   ],
   "source": [
    "spearmanr(cyclomatic_coverage_jfreechart_results, statement_coverage_jfreechart_results)"
   ]
  },
  {
   "cell_type": "code",
   "execution_count": 114,
   "metadata": {},
   "outputs": [
    {
     "data": {
      "text/plain": [
       "SpearmanrResult(correlation=0.06401005646779635, pvalue=0.05100704657403504)"
      ]
     },
     "execution_count": 114,
     "metadata": {},
     "output_type": "execute_result"
    }
   ],
   "source": [
    "spearmanr(cyclomatic_coverage_jfreechart_results, branch_coverage_jfreechart_results)"
   ]
  },
  {
   "cell_type": "code",
   "execution_count": 99,
   "metadata": {},
   "outputs": [],
   "source": [
    "#Lang classes"
   ]
  },
  {
   "cell_type": "code",
   "execution_count": 80,
   "metadata": {},
   "outputs": [],
   "source": [
    "lang_classes = pd.read_csv(\"lang-v3.8.1.csv\")"
   ]
  },
  {
   "cell_type": "code",
   "execution_count": 81,
   "metadata": {},
   "outputs": [],
   "source": [
    "statement_coverage_lang_results = lang_classes[\"LINE_COVERED\"] / (lang_classes[\"LINE_MISSED\"] + lang_classes[\"LINE_COVERED\"])"
   ]
  },
  {
   "cell_type": "code",
   "execution_count": 96,
   "metadata": {},
   "outputs": [],
   "source": [
    "branch_coverage_lang_results = lang_classes[\"BRANCH_COVERED\"] / (lang_classes[\"BRANCH_MISSED\"] + lang_classes[\"BRANCH_COVERED\"]+0.00000001)"
   ]
  },
  {
   "cell_type": "code",
   "execution_count": 82,
   "metadata": {},
   "outputs": [],
   "source": [
    "cyclomatic_coverage_lang_results = lang_classes[\"COMPLEXITY_COVERED\"] / (lang_classes[\"COMPLEXITY_MISSED\"] + lang_classes[\"COMPLEXITY_COVERED\"])"
   ]
  },
  {
   "cell_type": "code",
   "execution_count": 83,
   "metadata": {},
   "outputs": [
    {
     "data": {
      "text/plain": [
       "SpearmanrResult(correlation=0.835398303699803, pvalue=4.9508217380896994e-163)"
      ]
     },
     "execution_count": 83,
     "metadata": {},
     "output_type": "execute_result"
    }
   ],
   "source": [
    "spearmanr(cyclomatic_coverage_lang_results, statement_coverage_lang_results)"
   ]
  },
  {
   "cell_type": "code",
   "execution_count": 116,
   "metadata": {},
   "outputs": [
    {
     "data": {
      "text/plain": [
       "SpearmanrResult(correlation=-0.1527701057198762, pvalue=0.0001324827661134902)"
      ]
     },
     "execution_count": 116,
     "metadata": {},
     "output_type": "execute_result"
    }
   ],
   "source": [
    "spearmanr(cyclomatic_coverage_lang_results, branch_coverage_lang_results)"
   ]
  },
  {
   "cell_type": "code",
   "execution_count": null,
   "metadata": {},
   "outputs": [],
   "source": [
    "#Logging classes"
   ]
  },
  {
   "cell_type": "code",
   "execution_count": 84,
   "metadata": {},
   "outputs": [],
   "source": [
    "logging_classes = pd.read_csv(\"logging-v1.1.2.csv\")"
   ]
  },
  {
   "cell_type": "code",
   "execution_count": 85,
   "metadata": {},
   "outputs": [],
   "source": [
    "statement_coverage_logging_results = logging_classes[\"LINE_COVERED\"] / (logging_classes[\"LINE_MISSED\"] + logging_classes[\"LINE_COVERED\"])"
   ]
  },
  {
   "cell_type": "code",
   "execution_count": 86,
   "metadata": {},
   "outputs": [],
   "source": [
    "cyclomatic_coverage_logging_results = logging_classes[\"COMPLEXITY_COVERED\"] / (logging_classes[\"COMPLEXITY_MISSED\"] + logging_classes[\"COMPLEXITY_COVERED\"])"
   ]
  },
  {
   "cell_type": "code",
   "execution_count": 117,
   "metadata": {},
   "outputs": [],
   "source": [
    "branch_coverage_logging_results = logging_classes[\"BRANCH_COVERED\"] / (logging_classes[\"BRANCH_MISSED\"] + logging_classes[\"BRANCH_COVERED\"]+0.00000001)"
   ]
  },
  {
   "cell_type": "code",
   "execution_count": 87,
   "metadata": {},
   "outputs": [
    {
     "data": {
      "text/plain": [
       "SpearmanrResult(correlation=0.8903398600606786, pvalue=2.0762766791122977e-29)"
      ]
     },
     "execution_count": 87,
     "metadata": {},
     "output_type": "execute_result"
    }
   ],
   "source": [
    "spearmanr(cyclomatic_coverage_logging_results, statement_coverage_logging_results)"
   ]
  },
  {
   "cell_type": "code",
   "execution_count": 118,
   "metadata": {},
   "outputs": [
    {
     "data": {
      "text/plain": [
       "SpearmanrResult(correlation=0.015044259076221478, pvalue=0.8926207795344316)"
      ]
     },
     "execution_count": 118,
     "metadata": {},
     "output_type": "execute_result"
    }
   ],
   "source": [
    "spearmanr(cyclomatic_coverage_logging_results, branch_coverage_logging_results)"
   ]
  },
  {
   "cell_type": "code",
   "execution_count": null,
   "metadata": {},
   "outputs": [],
   "source": [
    "#Math classes"
   ]
  },
  {
   "cell_type": "code",
   "execution_count": 103,
   "metadata": {},
   "outputs": [],
   "source": [
    "math_classes = pd.read_csv(\"math-v3.6.1.csv\")"
   ]
  },
  {
   "cell_type": "code",
   "execution_count": 104,
   "metadata": {},
   "outputs": [],
   "source": [
    "statement_coverage_math_results = math_classes[\"LINE_COVERED\"] / (math_classes[\"LINE_MISSED\"] + math_classes[\"LINE_COVERED\"])"
   ]
  },
  {
   "cell_type": "code",
   "execution_count": 105,
   "metadata": {},
   "outputs": [],
   "source": [
    "cyclomatic_coverage_math_results = math_classes[\"COMPLEXITY_COVERED\"] / (math_classes[\"COMPLEXITY_MISSED\"] + math_classes[\"COMPLEXITY_COVERED\"])"
   ]
  },
  {
   "cell_type": "code",
   "execution_count": 119,
   "metadata": {},
   "outputs": [],
   "source": [
    "branch_coverage_math_results = math_classes[\"BRANCH_COVERED\"] / (math_classes[\"BRANCH_MISSED\"] + math_classes[\"BRANCH_COVERED\"]+0.00000001)"
   ]
  },
  {
   "cell_type": "code",
   "execution_count": 107,
   "metadata": {},
   "outputs": [
    {
     "data": {
      "text/plain": [
       "SpearmanrResult(correlation=0.8156196655104382, pvalue=0.0)"
      ]
     },
     "execution_count": 107,
     "metadata": {},
     "output_type": "execute_result"
    }
   ],
   "source": [
    "spearmanr(cyclomatic_coverage_math_results, statement_coverage_math_results)"
   ]
  },
  {
   "cell_type": "code",
   "execution_count": 120,
   "metadata": {},
   "outputs": [
    {
     "data": {
      "text/plain": [
       "SpearmanrResult(correlation=0.036230824607584255, pvalue=0.08309008796910218)"
      ]
     },
     "execution_count": 120,
     "metadata": {},
     "output_type": "execute_result"
    }
   ],
   "source": [
    "spearmanr(cyclomatic_coverage_math_results, branch_coverage_math_results)"
   ]
  }
 ],
 "metadata": {
  "kernelspec": {
   "display_name": "Python 3",
   "language": "python",
   "name": "python3"
  },
  "language_info": {
   "codemirror_mode": {
    "name": "ipython",
    "version": 3
   },
   "file_extension": ".py",
   "mimetype": "text/x-python",
   "name": "python",
   "nbconvert_exporter": "python",
   "pygments_lexer": "ipython3",
   "version": "3.7.1"
  }
 },
 "nbformat": 4,
 "nbformat_minor": 2
}
