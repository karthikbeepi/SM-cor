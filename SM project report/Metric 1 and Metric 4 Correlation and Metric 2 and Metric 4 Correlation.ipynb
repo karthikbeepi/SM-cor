{
 "cells": [
  {
   "cell_type": "code",
   "execution_count": 16,
   "metadata": {},
   "outputs": [],
   "source": [
    "from scipy.stats import spearmanr\n",
    "import matplotlib.pyplot as plt"
   ]
  },
  {
   "cell_type": "code",
   "execution_count": 17,
   "metadata": {},
   "outputs": [],
   "source": [
    "import pandas as pd"
   ]
  },
  {
   "cell_type": "code",
   "execution_count": 18,
   "metadata": {},
   "outputs": [],
   "source": [
    "#Collections Classes"
   ]
  },
  {
   "cell_type": "code",
   "execution_count": 19,
   "metadata": {},
   "outputs": [],
   "source": [
    "collections_classes = pd.read_csv(\"collections-v4.3.csv\")"
   ]
  },
  {
   "cell_type": "code",
   "execution_count": 20,
   "metadata": {},
   "outputs": [
    {
     "data": {
      "text/html": [
       "<div>\n",
       "<style scoped>\n",
       "    .dataframe tbody tr th:only-of-type {\n",
       "        vertical-align: middle;\n",
       "    }\n",
       "\n",
       "    .dataframe tbody tr th {\n",
       "        vertical-align: top;\n",
       "    }\n",
       "\n",
       "    .dataframe thead th {\n",
       "        text-align: right;\n",
       "    }\n",
       "</style>\n",
       "<table border=\"1\" class=\"dataframe\">\n",
       "  <thead>\n",
       "    <tr style=\"text-align: right;\">\n",
       "      <th></th>\n",
       "      <th>GROUP</th>\n",
       "      <th>PACKAGE</th>\n",
       "      <th>CLASS</th>\n",
       "      <th>INSTRUCTION_MISSED</th>\n",
       "      <th>INSTRUCTION_COVERED</th>\n",
       "      <th>BRANCH_MISSED</th>\n",
       "      <th>BRANCH_COVERED</th>\n",
       "      <th>LINE_MISSED</th>\n",
       "      <th>LINE_COVERED</th>\n",
       "      <th>COMPLEXITY_MISSED</th>\n",
       "      <th>COMPLEXITY_COVERED</th>\n",
       "      <th>METHOD_MISSED</th>\n",
       "      <th>METHOD_COVERED</th>\n",
       "    </tr>\n",
       "  </thead>\n",
       "  <tbody>\n",
       "    <tr>\n",
       "      <th>0</th>\n",
       "      <td>collections-v4.3 (Apr 2, 2019 8:15:44 PM)/comm...</td>\n",
       "      <td>org.apache.commons.collections4.keyvalue</td>\n",
       "      <td>DefaultMapEntry</td>\n",
       "      <td>0</td>\n",
       "      <td>19</td>\n",
       "      <td>0</td>\n",
       "      <td>0</td>\n",
       "      <td>0</td>\n",
       "      <td>6</td>\n",
       "      <td>0</td>\n",
       "      <td>3</td>\n",
       "      <td>0</td>\n",
       "      <td>3</td>\n",
       "    </tr>\n",
       "    <tr>\n",
       "      <th>1</th>\n",
       "      <td>collections-v4.3 (Apr 2, 2019 8:15:44 PM)/comm...</td>\n",
       "      <td>org.apache.commons.collections4.keyvalue</td>\n",
       "      <td>DefaultKeyValue</td>\n",
       "      <td>4</td>\n",
       "      <td>110</td>\n",
       "      <td>5</td>\n",
       "      <td>19</td>\n",
       "      <td>1</td>\n",
       "      <td>24</td>\n",
       "      <td>5</td>\n",
       "      <td>16</td>\n",
       "      <td>0</td>\n",
       "      <td>9</td>\n",
       "    </tr>\n",
       "    <tr>\n",
       "      <th>2</th>\n",
       "      <td>collections-v4.3 (Apr 2, 2019 8:15:44 PM)/comm...</td>\n",
       "      <td>org.apache.commons.collections4.keyvalue</td>\n",
       "      <td>TiedMapEntry</td>\n",
       "      <td>4</td>\n",
       "      <td>105</td>\n",
       "      <td>5</td>\n",
       "      <td>17</td>\n",
       "      <td>1</td>\n",
       "      <td>21</td>\n",
       "      <td>5</td>\n",
       "      <td>13</td>\n",
       "      <td>0</td>\n",
       "      <td>7</td>\n",
       "    </tr>\n",
       "    <tr>\n",
       "      <th>3</th>\n",
       "      <td>collections-v4.3 (Apr 2, 2019 8:15:44 PM)/comm...</td>\n",
       "      <td>org.apache.commons.collections4.keyvalue</td>\n",
       "      <td>AbstractMapEntry</td>\n",
       "      <td>0</td>\n",
       "      <td>70</td>\n",
       "      <td>1</td>\n",
       "      <td>19</td>\n",
       "      <td>0</td>\n",
       "      <td>13</td>\n",
       "      <td>1</td>\n",
       "      <td>13</td>\n",
       "      <td>0</td>\n",
       "      <td>4</td>\n",
       "    </tr>\n",
       "    <tr>\n",
       "      <th>4</th>\n",
       "      <td>collections-v4.3 (Apr 2, 2019 8:15:44 PM)/comm...</td>\n",
       "      <td>org.apache.commons.collections4.keyvalue</td>\n",
       "      <td>AbstractMapEntryDecorator</td>\n",
       "      <td>11</td>\n",
       "      <td>36</td>\n",
       "      <td>2</td>\n",
       "      <td>2</td>\n",
       "      <td>3</td>\n",
       "      <td>11</td>\n",
       "      <td>3</td>\n",
       "      <td>7</td>\n",
       "      <td>1</td>\n",
       "      <td>7</td>\n",
       "    </tr>\n",
       "  </tbody>\n",
       "</table>\n",
       "</div>"
      ],
      "text/plain": [
       "                                               GROUP  \\\n",
       "0  collections-v4.3 (Apr 2, 2019 8:15:44 PM)/comm...   \n",
       "1  collections-v4.3 (Apr 2, 2019 8:15:44 PM)/comm...   \n",
       "2  collections-v4.3 (Apr 2, 2019 8:15:44 PM)/comm...   \n",
       "3  collections-v4.3 (Apr 2, 2019 8:15:44 PM)/comm...   \n",
       "4  collections-v4.3 (Apr 2, 2019 8:15:44 PM)/comm...   \n",
       "\n",
       "                                    PACKAGE                      CLASS  \\\n",
       "0  org.apache.commons.collections4.keyvalue            DefaultMapEntry   \n",
       "1  org.apache.commons.collections4.keyvalue            DefaultKeyValue   \n",
       "2  org.apache.commons.collections4.keyvalue               TiedMapEntry   \n",
       "3  org.apache.commons.collections4.keyvalue           AbstractMapEntry   \n",
       "4  org.apache.commons.collections4.keyvalue  AbstractMapEntryDecorator   \n",
       "\n",
       "   INSTRUCTION_MISSED  INSTRUCTION_COVERED  BRANCH_MISSED  BRANCH_COVERED  \\\n",
       "0                   0                   19              0               0   \n",
       "1                   4                  110              5              19   \n",
       "2                   4                  105              5              17   \n",
       "3                   0                   70              1              19   \n",
       "4                  11                   36              2               2   \n",
       "\n",
       "   LINE_MISSED  LINE_COVERED  COMPLEXITY_MISSED  COMPLEXITY_COVERED  \\\n",
       "0            0             6                  0                   3   \n",
       "1            1            24                  5                  16   \n",
       "2            1            21                  5                  13   \n",
       "3            0            13                  1                  13   \n",
       "4            3            11                  3                   7   \n",
       "\n",
       "   METHOD_MISSED  METHOD_COVERED  \n",
       "0              0               3  \n",
       "1              0               9  \n",
       "2              0               7  \n",
       "3              0               4  \n",
       "4              1               7  "
      ]
     },
     "execution_count": 20,
     "metadata": {},
     "output_type": "execute_result"
    }
   ],
   "source": [
    "collections_classes.head()"
   ]
  },
  {
   "cell_type": "code",
   "execution_count": 21,
   "metadata": {},
   "outputs": [],
   "source": [
    "statement_coverage_collection_results = collections_classes[\"LINE_COVERED\"] / (collections_classes[\"LINE_MISSED\"] + collections_classes[\"LINE_COVERED\"])"
   ]
  },
  {
   "cell_type": "code",
   "execution_count": 22,
   "metadata": {},
   "outputs": [
    {
     "data": {
      "text/plain": [
       "0      1.000000\n",
       "1      0.960000\n",
       "2      0.954545\n",
       "3      1.000000\n",
       "4      0.785714\n",
       "5      1.000000\n",
       "6      1.000000\n",
       "7      1.000000\n",
       "8      0.782609\n",
       "9      0.758621\n",
       "10     0.960000\n",
       "11     0.981481\n",
       "12     0.846154\n",
       "13     1.000000\n",
       "14     1.000000\n",
       "15     0.750000\n",
       "16     0.920000\n",
       "17     1.000000\n",
       "18     0.750000\n",
       "19     0.740741\n",
       "20     0.898551\n",
       "21     1.000000\n",
       "22     1.000000\n",
       "23     0.869565\n",
       "24     0.800000\n",
       "25     1.000000\n",
       "26     0.950000\n",
       "27     1.000000\n",
       "28     0.947368\n",
       "29     0.988636\n",
       "         ...   \n",
       "820    0.990196\n",
       "821    1.000000\n",
       "822    0.666667\n",
       "823    0.000000\n",
       "824    0.722222\n",
       "825    0.500000\n",
       "826    0.500000\n",
       "827    1.000000\n",
       "828    0.750000\n",
       "829    0.500000\n",
       "830    0.777778\n",
       "831    0.000000\n",
       "832    0.878788\n",
       "833    0.000000\n",
       "834    0.375000\n",
       "835    1.000000\n",
       "836    0.860465\n",
       "837    0.904762\n",
       "838    0.983784\n",
       "839    1.000000\n",
       "840    1.000000\n",
       "841    0.952381\n",
       "842    1.000000\n",
       "843    1.000000\n",
       "844    1.000000\n",
       "845    0.862069\n",
       "846    0.948598\n",
       "847    1.000000\n",
       "848    0.914286\n",
       "849    1.000000\n",
       "Length: 850, dtype: float64"
      ]
     },
     "execution_count": 22,
     "metadata": {},
     "output_type": "execute_result"
    }
   ],
   "source": [
    "statement_coverage_collection_results"
   ]
  },
  {
   "cell_type": "code",
   "execution_count": 23,
   "metadata": {},
   "outputs": [],
   "source": [
    "branch_coverage_collection_results = collections_classes[\"BRANCH_COVERED\"] / (collections_classes[\"BRANCH_MISSED\"] + collections_classes[\"BRANCH_COVERED\"]+0.00000001)"
   ]
  },
  {
   "cell_type": "code",
   "execution_count": 24,
   "metadata": {},
   "outputs": [
    {
     "data": {
      "text/plain": [
       "0      0.000000\n",
       "1      0.791667\n",
       "2      0.772727\n",
       "3      0.950000\n",
       "4      0.500000\n",
       "5      0.000000\n",
       "6      1.000000\n",
       "7      0.000000\n",
       "8      0.500000\n",
       "9      0.625000\n",
       "10     0.750000\n",
       "11     0.954545\n",
       "12     0.976190\n",
       "13     1.000000\n",
       "14     0.875000\n",
       "15     0.555556\n",
       "16     1.000000\n",
       "17     1.000000\n",
       "18     0.642857\n",
       "19     0.642857\n",
       "20     0.666667\n",
       "21     0.590909\n",
       "22     0.000000\n",
       "23     0.833333\n",
       "24     0.750000\n",
       "25     1.000000\n",
       "26     0.928571\n",
       "27     1.000000\n",
       "28     1.000000\n",
       "29     0.963415\n",
       "         ...   \n",
       "820    0.933333\n",
       "821    1.000000\n",
       "822    0.000000\n",
       "823    0.000000\n",
       "824    0.333333\n",
       "825    0.000000\n",
       "826    0.000000\n",
       "827    0.500000\n",
       "828    1.000000\n",
       "829    0.000000\n",
       "830    0.000000\n",
       "831    0.000000\n",
       "832    0.583333\n",
       "833    0.000000\n",
       "834    0.000000\n",
       "835    0.000000\n",
       "836    0.750000\n",
       "837    0.000000\n",
       "838    0.930556\n",
       "839    0.000000\n",
       "840    0.000000\n",
       "841    0.000000\n",
       "842    0.000000\n",
       "843    1.000000\n",
       "844    0.000000\n",
       "845    0.000000\n",
       "846    1.000000\n",
       "847    0.000000\n",
       "848    0.760000\n",
       "849    0.000000\n",
       "Length: 850, dtype: float64"
      ]
     },
     "execution_count": 24,
     "metadata": {},
     "output_type": "execute_result"
    }
   ],
   "source": [
    "branch_coverage_collection_results"
   ]
  },
  {
   "cell_type": "code",
   "execution_count": 108,
   "metadata": {},
   "outputs": [],
   "source": [
    "cyclomatic_coverage_collection_results = (collections_classes[\"COMPLEXITY_MISSED\"] + collections_classes[\"COMPLEXITY_COVERED\"])"
   ]
  },
  {
   "cell_type": "code",
   "execution_count": 109,
   "metadata": {},
   "outputs": [
    {
     "data": {
      "text/plain": [
       "0       3\n",
       "1      21\n",
       "2      18\n",
       "3      14\n",
       "4      10\n",
       "5       4\n",
       "6      20\n",
       "7       6\n",
       "8      18\n",
       "9      15\n",
       "10     26\n",
       "11     27\n",
       "12     46\n",
       "13     11\n",
       "14     11\n",
       "15     23\n",
       "16     19\n",
       "17     10\n",
       "18     20\n",
       "19     39\n",
       "20     46\n",
       "21     16\n",
       "22      1\n",
       "23     19\n",
       "24      9\n",
       "25      9\n",
       "26     17\n",
       "27      3\n",
       "28      8\n",
       "29     47\n",
       "       ..\n",
       "820    39\n",
       "821     3\n",
       "822     2\n",
       "823     4\n",
       "824    12\n",
       "825     2\n",
       "826     2\n",
       "827     4\n",
       "828     4\n",
       "829     2\n",
       "830     2\n",
       "831    12\n",
       "832    20\n",
       "833     5\n",
       "834     5\n",
       "835     2\n",
       "836    12\n",
       "837    11\n",
       "838    64\n",
       "839     4\n",
       "840     4\n",
       "841    12\n",
       "842     2\n",
       "843    10\n",
       "844     5\n",
       "845    13\n",
       "846    29\n",
       "847     2\n",
       "848    41\n",
       "849    10\n",
       "Length: 850, dtype: int64"
      ]
     },
     "execution_count": 109,
     "metadata": {},
     "output_type": "execute_result"
    }
   ],
   "source": [
    "cyclomatic_coverage_collection_results"
   ]
  },
  {
   "cell_type": "code",
   "execution_count": 110,
   "metadata": {},
   "outputs": [
    {
     "data": {
      "text/plain": [
       "SpearmanrResult(correlation=-0.272255629175835, pvalue=6.531992049512543e-16)"
      ]
     },
     "execution_count": 110,
     "metadata": {},
     "output_type": "execute_result"
    }
   ],
   "source": [
    "spearmanr(cyclomatic_coverage_collection_results, statement_coverage_collection_results)"
   ]
  },
  {
   "cell_type": "code",
   "execution_count": 111,
   "metadata": {},
   "outputs": [
    {
     "data": {
      "text/plain": [
       "SpearmanrResult(correlation=0.4976423298732401, pvalue=2.1964599930165603e-54)"
      ]
     },
     "execution_count": 111,
     "metadata": {},
     "output_type": "execute_result"
    }
   ],
   "source": [
    "spearmanr(cyclomatic_coverage_collection_results, branch_coverage_collection_results)"
   ]
  },
  {
   "cell_type": "code",
   "execution_count": 112,
   "metadata": {},
   "outputs": [
    {
     "data": {
      "image/png": "[encoded data removed]",
      "text/plain": [
       "<Figure size 432x288 with 1 Axes>"
      ]
     },
     "metadata": {
      "needs_background": "light"
     },
     "output_type": "display_data"
    }
   ],
   "source": [
    "cyclomatic_coverage_collection_results_g,statement_coverage_collection_results_g = zip(*sorted(zip(cyclomatic_coverage_collection_results,statement_coverage_collection_results)))\n",
    "plt.plot(cyclomatic_coverage_collection_results_g, statement_coverage_collection_results_g)\n",
    "plt.ylabel(\"Statement coverage results\")\n",
    "plt.xlabel(\"Cyclomatic complexity results\")\n",
    "plt.title(\"Apache Collections: Cyclomatic complexity and Statement coverage\")\n",
    "plt.show()"
   ]
  },
  {
   "cell_type": "code",
   "execution_count": 113,
   "metadata": {},
   "outputs": [
    {
     "data": {
      "image/png": "[encoded data removed]",
      "text/plain": [
       "<Figure size 432x288 with 1 Axes>"
      ]
     },
     "metadata": {
      "needs_background": "light"
     },
     "output_type": "display_data"
    }
   ],
   "source": [
    "cyclomatic_coverage_collection_results_g,branch_coverage_collection_results_g = zip(*sorted(zip(cyclomatic_coverage_collection_results,branch_coverage_collection_results)))\n",
    "plt.plot(cyclomatic_coverage_collection_results_g, branch_coverage_collection_results_g)\n",
    "plt.ylabel(\"Branch coverage results\")\n",
    "plt.xlabel(\"Cyclomatic complexity results: Cyclomatic complexity and branch coverage\")\n",
    "plt.title(\"Apache Collections\")\n",
    "plt.show()"
   ]
  },
  {
   "cell_type": "code",
   "execution_count": 65,
   "metadata": {},
   "outputs": [],
   "source": [
    "#JFreechart classes"
   ]
  },
  {
   "cell_type": "code",
   "execution_count": 66,
   "metadata": {},
   "outputs": [],
   "source": [
    "jfreechart_classes = pd.read_csv(\"jfreechart-v1.5.0.csv\")"
   ]
  },
  {
   "cell_type": "code",
   "execution_count": 67,
   "metadata": {},
   "outputs": [],
   "source": [
    "statement_coverage_jfreechart_results = jfreechart_classes[\"LINE_COVERED\"] / (jfreechart_classes[\"LINE_MISSED\"] + jfreechart_classes[\"LINE_COVERED\"])"
   ]
  },
  {
   "cell_type": "code",
   "execution_count": 68,
   "metadata": {},
   "outputs": [],
   "source": [
    "branch_coverage_jfreechart_results = jfreechart_classes[\"BRANCH_COVERED\"] / (jfreechart_classes[\"BRANCH_MISSED\"] + jfreechart_classes[\"BRANCH_COVERED\"]+0.00000001)"
   ]
  },
  {
   "cell_type": "code",
   "execution_count": 69,
   "metadata": {},
   "outputs": [],
   "source": [
    "cyclomatic_coverage_jfreechart_results = (jfreechart_classes[\"COMPLEXITY_MISSED\"] + jfreechart_classes[\"COMPLEXITY_COVERED\"])"
   ]
  },
  {
   "cell_type": "code",
   "execution_count": 70,
   "metadata": {},
   "outputs": [
    {
     "data": {
      "text/plain": [
       "SpearmanrResult(correlation=-0.43999030790885957, pvalue=2.5956980221073604e-45)"
      ]
     },
     "execution_count": 70,
     "metadata": {},
     "output_type": "execute_result"
    }
   ],
   "source": [
    "spearmanr(cyclomatic_coverage_jfreechart_results, statement_coverage_jfreechart_results)"
   ]
  },
  {
   "cell_type": "code",
   "execution_count": 71,
   "metadata": {},
   "outputs": [
    {
     "data": {
      "text/plain": [
       "SpearmanrResult(correlation=0.4782076842478973, pvalue=2.5884866966201224e-54)"
      ]
     },
     "execution_count": 71,
     "metadata": {},
     "output_type": "execute_result"
    }
   ],
   "source": [
    "spearmanr(cyclomatic_coverage_jfreechart_results, branch_coverage_jfreechart_results)"
   ]
  },
  {
   "cell_type": "code",
   "execution_count": 72,
   "metadata": {},
   "outputs": [],
   "source": [
    "#Lang classes"
   ]
  },
  {
   "cell_type": "code",
   "execution_count": 73,
   "metadata": {},
   "outputs": [],
   "source": [
    "lang_classes = pd.read_csv(\"lang-v3.8.1.csv\")"
   ]
  },
  {
   "cell_type": "code",
   "execution_count": 74,
   "metadata": {},
   "outputs": [],
   "source": [
    "statement_coverage_lang_results = lang_classes[\"LINE_COVERED\"] / (lang_classes[\"LINE_MISSED\"] + lang_classes[\"LINE_COVERED\"])"
   ]
  },
  {
   "cell_type": "code",
   "execution_count": 40,
   "metadata": {},
   "outputs": [],
   "source": [
    "branch_coverage_lang_results = lang_classes[\"BRANCH_COVERED\"] / (lang_classes[\"BRANCH_MISSED\"] + lang_classes[\"BRANCH_COVERED\"]+0.00000001)"
   ]
  },
  {
   "cell_type": "code",
   "execution_count": 75,
   "metadata": {},
   "outputs": [],
   "source": [
    "cyclomatic_coverage_lang_results = (lang_classes[\"COMPLEXITY_MISSED\"] + lang_classes[\"COMPLEXITY_COVERED\"])"
   ]
  },
  {
   "cell_type": "code",
   "execution_count": 76,
   "metadata": {},
   "outputs": [
    {
     "data": {
      "text/plain": [
       "SpearmanrResult(correlation=-0.18103088702264922, pvalue=5.632400398305398e-06)"
      ]
     },
     "execution_count": 76,
     "metadata": {},
     "output_type": "execute_result"
    }
   ],
   "source": [
    "spearmanr(cyclomatic_coverage_lang_results, statement_coverage_lang_results)"
   ]
  },
  {
   "cell_type": "code",
   "execution_count": 77,
   "metadata": {},
   "outputs": [
    {
     "data": {
      "text/plain": [
       "SpearmanrResult(correlation=0.6231365989586843, pvalue=4.406280544048877e-68)"
      ]
     },
     "execution_count": 77,
     "metadata": {},
     "output_type": "execute_result"
    }
   ],
   "source": [
    "spearmanr(cyclomatic_coverage_lang_results, branch_coverage_lang_results)"
   ]
  },
  {
   "cell_type": "code",
   "execution_count": 78,
   "metadata": {},
   "outputs": [],
   "source": [
    "#Logging classes"
   ]
  },
  {
   "cell_type": "code",
   "execution_count": 79,
   "metadata": {},
   "outputs": [],
   "source": [
    "logging_classes = pd.read_csv(\"logging-v1.1.2.csv\")"
   ]
  },
  {
   "cell_type": "code",
   "execution_count": 80,
   "metadata": {},
   "outputs": [],
   "source": [
    "statement_coverage_logging_results = logging_classes[\"LINE_COVERED\"] / (logging_classes[\"LINE_MISSED\"] + logging_classes[\"LINE_COVERED\"])"
   ]
  },
  {
   "cell_type": "code",
   "execution_count": 81,
   "metadata": {},
   "outputs": [],
   "source": [
    "cyclomatic_coverage_logging_results = (logging_classes[\"COMPLEXITY_MISSED\"] + logging_classes[\"COMPLEXITY_COVERED\"])"
   ]
  },
  {
   "cell_type": "code",
   "execution_count": 82,
   "metadata": {},
   "outputs": [],
   "source": [
    "branch_coverage_logging_results = logging_classes[\"BRANCH_COVERED\"] / (logging_classes[\"BRANCH_MISSED\"] + logging_classes[\"BRANCH_COVERED\"]+0.00000001)"
   ]
  },
  {
   "cell_type": "code",
   "execution_count": 83,
   "metadata": {},
   "outputs": [
    {
     "data": {
      "text/plain": [
       "SpearmanrResult(correlation=-0.27145064144927755, pvalue=0.013052746429308693)"
      ]
     },
     "execution_count": 83,
     "metadata": {},
     "output_type": "execute_result"
    }
   ],
   "source": [
    "spearmanr(cyclomatic_coverage_logging_results, statement_coverage_logging_results)"
   ]
  },
  {
   "cell_type": "code",
   "execution_count": 84,
   "metadata": {},
   "outputs": [
    {
     "data": {
      "text/plain": [
       "SpearmanrResult(correlation=0.4436579689842044, pvalue=2.6589445291456217e-05)"
      ]
     },
     "execution_count": 84,
     "metadata": {},
     "output_type": "execute_result"
    }
   ],
   "source": [
    "spearmanr(cyclomatic_coverage_logging_results, branch_coverage_logging_results)"
   ]
  },
  {
   "cell_type": "code",
   "execution_count": 85,
   "metadata": {},
   "outputs": [],
   "source": [
    "#Math classes"
   ]
  },
  {
   "cell_type": "code",
   "execution_count": 86,
   "metadata": {},
   "outputs": [],
   "source": [
    "math_classes = pd.read_csv(\"math-v3.6.1.csv\")"
   ]
  },
  {
   "cell_type": "code",
   "execution_count": 87,
   "metadata": {},
   "outputs": [],
   "source": [
    "statement_coverage_math_results = math_classes[\"LINE_COVERED\"] / (math_classes[\"LINE_MISSED\"] + math_classes[\"LINE_COVERED\"])"
   ]
  },
  {
   "cell_type": "code",
   "execution_count": 88,
   "metadata": {},
   "outputs": [],
   "source": [
    "cyclomatic_coverage_math_results = (math_classes[\"COMPLEXITY_MISSED\"] + math_classes[\"COMPLEXITY_COVERED\"])"
   ]
  },
  {
   "cell_type": "code",
   "execution_count": 89,
   "metadata": {},
   "outputs": [],
   "source": [
    "branch_coverage_math_results = math_classes[\"BRANCH_COVERED\"] / (math_classes[\"BRANCH_MISSED\"] + math_classes[\"BRANCH_COVERED\"]+0.00000001)"
   ]
  },
  {
   "cell_type": "code",
   "execution_count": 90,
   "metadata": {},
   "outputs": [
    {
     "data": {
      "text/plain": [
       "SpearmanrResult(correlation=-0.3856866917423484, pvalue=4.4957668396702057e-82)"
      ]
     },
     "execution_count": 90,
     "metadata": {},
     "output_type": "execute_result"
    }
   ],
   "source": [
    "spearmanr(cyclomatic_coverage_math_results, statement_coverage_math_results)"
   ]
  },
  {
   "cell_type": "code",
   "execution_count": 91,
   "metadata": {},
   "outputs": [
    {
     "data": {
      "text/plain": [
       "SpearmanrResult(correlation=0.5867474940728188, pvalue=7.525935528328529e-212)"
      ]
     },
     "execution_count": 91,
     "metadata": {},
     "output_type": "execute_result"
    }
   ],
   "source": [
    "spearmanr(cyclomatic_coverage_math_results, branch_coverage_math_results)"
   ]
  }
 ],
 "metadata": {
  "kernelspec": {
   "display_name": "Python 3",
   "language": "python",
   "name": "python3"
  },
  "language_info": {
   "codemirror_mode": {
    "name": "ipython",
    "version": 3
   },
   "file_extension": ".py",
   "mimetype": "text/x-python",
   "name": "python",
   "nbconvert_exporter": "python",
   "pygments_lexer": "ipython3",
   "version": "3.7.1"
  }
 },
 "nbformat": 4,
 "nbformat_minor": 2
}
